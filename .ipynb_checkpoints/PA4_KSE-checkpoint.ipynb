{
 "cells": [
  {
   "cell_type": "markdown",
   "metadata": {},
   "source": [
    "# Programming Assignment 4\n",
    "---\n",
    "**Author:** Kerry Effinger \n",
    "**Version:** 1.0  \n",
    "**Semester:** Fall 2020  \n",
    "\n",
    "This *notebook* contains my solution to **Programming Assignment 4**\n"
   ]
  },
  {
   "cell_type": "markdown",
   "metadata": {},
   "source": [
    "-Problem 1:"
   ]
  },
  {
   "cell_type": "code",
   "execution_count": 2,
   "metadata": {},
   "outputs": [],
   "source": [
    "import random"
   ]
  },
  {
   "cell_type": "code",
   "execution_count": 76,
   "metadata": {},
   "outputs": [
    {
     "name": "stdout",
     "output_type": "stream",
     "text": [
      "[22, 80, 36, 62, 27, 78, 79, 7, 85, 42]\n"
     ]
    }
   ],
   "source": [
    "rand10 = random.sample(range(1,101),10)\n",
    "print (rand10)"
   ]
  },
  {
   "cell_type": "code",
   "execution_count": 77,
   "metadata": {},
   "outputs": [],
   "source": [
    "def swap_first_last(rand10):\n",
    "    \"\"\"swaps first and last element of a list\"\"\"\n",
    "    first = rand10[0]\n",
    "    last = rand10[9]\n",
    "    rand10.remove(first)\n",
    "    rand10.remove(last)\n",
    "    rand10.insert(0,last)\n",
    "    rand10.insert(9,first)\n",
    "    return rand10"
   ]
  },
  {
   "cell_type": "code",
   "execution_count": 178,
   "metadata": {},
   "outputs": [
    {
     "name": "stdout",
     "output_type": "stream",
     "text": [
      "42 22\n"
     ]
    }
   ],
   "source": [
    "number1 = rand10[0]\n",
    "number10 = rand10[9]\n",
    "\n",
    "print (number1, number10)"
   ]
  },
  {
   "cell_type": "code",
   "execution_count": 78,
   "metadata": {},
   "outputs": [
    {
     "data": {
      "text/plain": [
       "[42, 80, 36, 62, 27, 78, 79, 7, 85, 22]"
      ]
     },
     "execution_count": 78,
     "metadata": {},
     "output_type": "execute_result"
    }
   ],
   "source": [
    "swap_first_last(rand10)"
   ]
  },
  {
   "cell_type": "markdown",
   "metadata": {},
   "source": [
    "-Problem 2:"
   ]
  },
  {
   "cell_type": "code",
   "execution_count": 233,
   "metadata": {},
   "outputs": [
    {
     "name": "stdout",
     "output_type": "stream",
     "text": [
      "[89, 83, 86, 90, 20, 10, 52, 18, 31, 32, 92, 79, 54, 88, 5, 49, 6, 87, 8, 51]\n"
     ]
    }
   ],
   "source": [
    "rand = random.sample(range(1,101),20)\n",
    "print (rand)"
   ]
  },
  {
   "cell_type": "code",
   "execution_count": 234,
   "metadata": {},
   "outputs": [],
   "source": [
    "def encode (a_list):\n",
    "    \"\"\"replaces odd elements with -1 and even elements with 1\"\"\"\n",
    "    for i in range(0,len(a_list)):\n",
    "        if i % 2 == 0:\n",
    "            print (1, end = ',')\n",
    "        else:\n",
    "            print (-1, end = ',')\n",
    "                   "
   ]
  },
  {
   "cell_type": "code",
   "execution_count": 241,
   "metadata": {},
   "outputs": [
    {
     "name": "stdout",
     "output_type": "stream",
     "text": [
      "1,-1,1,-1,1,-1,1,-1,1,-1,1,-1,1,-1,1,-1,1,-1,1,-1,"
     ]
    }
   ],
   "source": [
    "encode(rand)"
   ]
  },
  {
   "cell_type": "markdown",
   "metadata": {},
   "source": [
    "-Problem 3:"
   ]
  },
  {
   "cell_type": "code",
   "execution_count": 174,
   "metadata": {},
   "outputs": [],
   "source": [
    "tuple3 = (\"Kerry\", \"Effinger\", 19)\n",
    "a,b,c = tuple3"
   ]
  },
  {
   "cell_type": "code",
   "execution_count": 232,
   "metadata": {},
   "outputs": [],
   "source": [
    "def rotate(tuple3):\n",
    "    \"\"\"reverses order of elements in a tuple\"\"\"\n",
    "    return tuple3[::-1]\n",
    "    print(f'{a} {b} {c}')"
   ]
  },
  {
   "cell_type": "code",
   "execution_count": 176,
   "metadata": {},
   "outputs": [
    {
     "data": {
      "text/plain": [
       "(19, 'Effinger', 'Kerry')"
      ]
     },
     "execution_count": 176,
     "metadata": {},
     "output_type": "execute_result"
    }
   ],
   "source": [
    "rotate(tuple3)"
   ]
  }
 ],
 "metadata": {
  "kernelspec": {
   "display_name": "Python 3",
   "language": "python",
   "name": "python3"
  },
  "language_info": {
   "codemirror_mode": {
    "name": "ipython",
    "version": 3
   },
   "file_extension": ".py",
   "mimetype": "text/x-python",
   "name": "python",
   "nbconvert_exporter": "python",
   "pygments_lexer": "ipython3",
   "version": "3.8.3"
  }
 },
 "nbformat": 4,
 "nbformat_minor": 4
}
